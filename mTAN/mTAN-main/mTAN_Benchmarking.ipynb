{
  "nbformat": 4,
  "nbformat_minor": 0,
  "metadata": {
    "colab": {
      "provenance": [],
      "gpuType": "T4"
    },
    "kernelspec": {
      "name": "python3",
      "display_name": "Python 3"
    },
    "language_info": {
      "name": "python"
    },
    "accelerator": "GPU"
  },
  "cells": [
    {
      "cell_type": "code",
      "source": [
        "# Mount Google Drive if using Colab\n",
        "from google.colab import drive\n",
        "drive.mount('/content/drive/')"
      ],
      "metadata": {
        "colab": {
          "base_uri": "https://localhost:8080/"
        },
        "id": "mYi4xAQKzuPa",
        "outputId": "a0475373-6fa4-4da0-ef2c-6aa8013e03c5"
      },
      "execution_count": null,
      "outputs": [
        {
          "output_type": "stream",
          "name": "stdout",
          "text": [
            "Mounted at /content/drive/\n"
          ]
        }
      ]
    },
    {
      "cell_type": "code",
      "source": [
        "# Running interpolation task on PhysioNet 2012 dataset\n",
        "# Modify file path based on own requirements\n",
        "!python3 './mTAN/mTAN-main/src/tan_interpolation.py' --niters 100 --lr 0.001 --batch-size 32 --rec-hidden 64 --latent-dim 16 --quantization 0.016  --enc mtan_rnn --dec mtan_rnn --n 8000  --gen-hidden 50 --save 1 --k-iwae 5 --std 0.01 --norm --learn-emb --kl --seed 0 --num-ref-points 64 --dataset physionet --sample-tp 0.9"
      ],
      "metadata": {
        "colab": {
          "base_uri": "https://localhost:8080/"
        },
        "id": "QLKLy0Jp4nO2",
        "outputId": "e9f3b6f7-9bad-4659-cbb9-d9b0789a05ec"
      },
      "execution_count": null,
      "outputs": [
        {
          "output_type": "stream",
          "name": "stdout",
          "text": [
            "Namespace(niters=100, lr=0.001, std=0.01, latent_dim=16, rec_hidden=64, gen_hidden=50, embed_time=128, k_iwae=5, save=1, enc='mtan_rnn', dec='mtan_rnn', fname=None, seed=0, n=8000, batch_size=32, quantization=0.016, classif=False, norm=True, kl=True, learn_emb=True, enc_num_heads=1, dec_num_heads=1, length=20, num_ref_points=64, dataset='physionet', enc_rnn=True, dec_rnn=True, sample_tp=0.9, only_periodic=None, dropout=0.0) 3204\n",
            "Downloading https://physionet.org/files/challenge-2012/1.0.0/Outcomes-a.txt to data/physionet/PhysioNet/raw/Outcomes-a.txt\n",
            "100% 79.2k/79.2k [00:00<00:00, 681kB/s]\n",
            "Downloading https://physionet.org/files/challenge-2012/1.0.0/set-a.tar.gz to data/physionet/PhysioNet/raw/set-a.tar.gz\n",
            "100% 6.63M/6.63M [00:09<00:00, 733kB/s]\n",
            "Processing set-a.tar.gz...\n",
            "Downloading https://physionet.org/files/challenge-2012/1.0.0/set-b.tar.gz to data/physionet/PhysioNet/raw/set-b.tar.gz\n",
            "100% 6.65M/6.65M [00:08<00:00, 745kB/s]\n",
            "Processing set-b.tar.gz...\n",
            "Done!\n",
            "/content/drive/MyDrive/ELEC 509/mTAN-main/mTAN-main/src/physionet.py:85: FutureWarning: You are using `torch.load` with `weights_only=False` (the current default value), which uses the default pickle module implicitly. It is possible to construct malicious pickle data which will execute arbitrary code during unpickling (See https://github.com/pytorch/pytorch/blob/main/SECURITY.md#untrusted-models for more details). In a future release, the default value for `weights_only` will be flipped to `True`. This limits the functions that could be executed during unpickling. Arbitrary objects will no longer be allowed to be loaded via this mode unless they are explicitly allowlisted by the user via `torch.serialization.add_safe_globals`. We recommend you start setting `weights_only=True` for any use case where you don't have full control of the loaded file. Please open an issue on GitHub for any issues related to this experimental feature.\n",
            "  self.data = torch.load(os.path.join(self.processed_folder, data_file), map_location='cpu')\n",
            "/content/drive/MyDrive/ELEC 509/mTAN-main/mTAN-main/src/physionet.py:86: FutureWarning: You are using `torch.load` with `weights_only=False` (the current default value), which uses the default pickle module implicitly. It is possible to construct malicious pickle data which will execute arbitrary code during unpickling (See https://github.com/pytorch/pytorch/blob/main/SECURITY.md#untrusted-models for more details). In a future release, the default value for `weights_only` will be flipped to `True`. This limits the functions that could be executed during unpickling. Arbitrary objects will no longer be allowed to be loaded via this mode unless they are explicitly allowlisted by the user via `torch.serialization.add_safe_globals`. We recommend you start setting `weights_only=True` for any use case where you don't have full control of the loaded file. Please open an issue on GitHub for any issues related to this experimental feature.\n",
            "  self.labels = torch.load(os.path.join(self.processed_folder, self.label_file), map_location='cpu')\n",
            "4000\n",
            "torch.Size([4000, 203, 83]) torch.Size([4000, 186, 83])\n",
            "parameters: 96594 70921\n",
            "Iter: 1, avg elbo: 109.5820, avg reconst: 116.9437, avg kl: 0.4997, mse: 0.023241, mae: 0.090629\n",
            "Iter: 2, avg elbo: 35.9691, avg reconst: 40.3803, avg kl: 0.4530, mse: 0.008129, mae: 0.057412\n",
            "Iter: 3, avg elbo: 31.6043, avg reconst: 35.1925, avg kl: 0.4880, mse: 0.007172, mae: 0.054044\n",
            "Iter: 4, avg elbo: 29.2123, avg reconst: 31.7126, avg kl: 0.4496, mse: 0.006612, mae: 0.052431\n",
            "Iter: 5, avg elbo: 27.4150, avg reconst: 30.2126, avg kl: 0.4545, mse: 0.006280, mae: 0.051304\n",
            "Iter: 6, avg elbo: 24.8239, avg reconst: 26.9922, avg kl: 0.5298, mse: 0.005710, mae: 0.048597\n",
            "Iter: 7, avg elbo: 22.8503, avg reconst: 24.5911, avg kl: 0.7409, mse: 0.005315, mae: 0.047150\n",
            "Iter: 8, avg elbo: 21.6340, avg reconst: 23.1382, avg kl: 1.0142, mse: 0.005044, mae: 0.045690\n",
            "Iter: 9, avg elbo: 20.2840, avg reconst: 21.7495, avg kl: 1.3409, mse: 0.004781, mae: 0.044662\n",
            "Iter: 10, avg elbo: 18.9143, avg reconst: 20.0235, avg kl: 1.6044, mse: 0.004467, mae: 0.043095\n",
            "Test Mean Squared Error tensor(0.0051, device='cuda:0')  Test Mean Absolute Error:  tensor(0.0429, device='cuda:0')\n",
            "Iter: 11, avg elbo: 17.2449, avg reconst: 17.8994, avg kl: 2.3267, mse: 0.004110, mae: 0.041164\n",
            "Iter: 12, avg elbo: 16.2734, avg reconst: 16.7716, avg kl: 3.0307, mse: 0.003908, mae: 0.039853\n",
            "Iter: 13, avg elbo: 15.3284, avg reconst: 15.7676, avg kl: 3.3474, mse: 0.003713, mae: 0.038468\n",
            "Iter: 14, avg elbo: 14.7384, avg reconst: 15.2591, avg kl: 3.6329, mse: 0.003552, mae: 0.037427\n",
            "Iter: 15, avg elbo: 13.7837, avg reconst: 14.1784, avg kl: 3.7777, mse: 0.003377, mae: 0.036406\n",
            "Iter: 16, avg elbo: 12.9828, avg reconst: 13.3042, avg kl: 4.0886, mse: 0.003194, mae: 0.035105\n",
            "Iter: 17, avg elbo: 12.4867, avg reconst: 12.8850, avg kl: 4.1826, mse: 0.003086, mae: 0.034312\n",
            "Iter: 18, avg elbo: 11.9888, avg reconst: 12.3390, avg kl: 4.2551, mse: 0.002978, mae: 0.033530\n",
            "Iter: 19, avg elbo: 11.7472, avg reconst: 12.1463, avg kl: 4.2831, mse: 0.002898, mae: 0.032942\n",
            "Iter: 20, avg elbo: 11.4190, avg reconst: 11.9128, avg kl: 4.3387, mse: 0.002854, mae: 0.032580\n",
            "Test Mean Squared Error tensor(0.0036, device='cuda:0')  Test Mean Absolute Error:  tensor(0.0332, device='cuda:0')\n",
            "Iter: 21, avg elbo: 10.9363, avg reconst: 11.2273, avg kl: 4.4199, mse: 0.002760, mae: 0.032175\n",
            "Iter: 22, avg elbo: 11.0014, avg reconst: 11.0743, avg kl: 4.3145, mse: 0.002717, mae: 0.031863\n",
            "Iter: 23, avg elbo: 10.2853, avg reconst: 10.4192, avg kl: 4.2482, mse: 0.002636, mae: 0.031421\n",
            "Iter: 24, avg elbo: 10.1260, avg reconst: 10.3475, avg kl: 4.1546, mse: 0.002579, mae: 0.031028\n",
            "Iter: 25, avg elbo: 9.7860, avg reconst: 9.8284, avg kl: 4.1776, mse: 0.002538, mae: 0.030869\n",
            "Iter: 26, avg elbo: 9.3512, avg reconst: 9.3307, avg kl: 4.1250, mse: 0.002429, mae: 0.029947\n",
            "Iter: 27, avg elbo: 9.0632, avg reconst: 9.0934, avg kl: 4.1151, mse: 0.002366, mae: 0.029451\n",
            "Iter: 28, avg elbo: 9.1477, avg reconst: 9.2583, avg kl: 4.0948, mse: 0.002317, mae: 0.029100\n",
            "Iter: 29, avg elbo: 8.4754, avg reconst: 8.6316, avg kl: 4.0937, mse: 0.002249, mae: 0.028727\n",
            "Iter: 30, avg elbo: 8.3806, avg reconst: 8.5224, avg kl: 4.0666, mse: 0.002180, mae: 0.028003\n",
            "Test Mean Squared Error tensor(0.0036, device='cuda:0')  Test Mean Absolute Error:  tensor(0.0323, device='cuda:0')\n",
            "Iter: 31, avg elbo: 8.8420, avg reconst: 8.9898, avg kl: 4.0130, mse: 0.002289, mae: 0.028669\n",
            "Iter: 32, avg elbo: 7.6817, avg reconst: 7.5813, avg kl: 3.8629, mse: 0.002090, mae: 0.027380\n",
            "Iter: 33, avg elbo: 7.5266, avg reconst: 7.6853, avg kl: 3.7684, mse: 0.002031, mae: 0.026779\n",
            "Iter: 34, avg elbo: 7.4255, avg reconst: 7.5087, avg kl: 3.7432, mse: 0.002006, mae: 0.026717\n",
            "Iter: 35, avg elbo: 7.1074, avg reconst: 7.0901, avg kl: 3.6523, mse: 0.001965, mae: 0.026339\n",
            "Iter: 36, avg elbo: 6.9415, avg reconst: 7.1659, avg kl: 3.5796, mse: 0.001918, mae: 0.025758\n",
            "Iter: 37, avg elbo: 6.7593, avg reconst: 7.0586, avg kl: 3.4930, mse: 0.001899, mae: 0.025766\n",
            "Iter: 38, avg elbo: 6.6127, avg reconst: 6.6710, avg kl: 3.3977, mse: 0.001859, mae: 0.025511\n",
            "Iter: 39, avg elbo: 6.5227, avg reconst: 6.5046, avg kl: 3.3328, mse: 0.001853, mae: 0.025578\n",
            "Iter: 40, avg elbo: 6.2960, avg reconst: 6.2287, avg kl: 3.2845, mse: 0.001818, mae: 0.025155\n",
            "Test Mean Squared Error tensor(0.0027, device='cuda:0')  Test Mean Absolute Error:  tensor(0.0270, device='cuda:0')\n",
            "Iter: 41, avg elbo: 6.3700, avg reconst: 6.2956, avg kl: 3.2040, mse: 0.001814, mae: 0.025321\n",
            "Iter: 42, avg elbo: 6.2372, avg reconst: 6.2304, avg kl: 3.1558, mse: 0.001781, mae: 0.024910\n",
            "Iter: 43, avg elbo: 6.1178, avg reconst: 6.0158, avg kl: 3.1170, mse: 0.001752, mae: 0.024656\n",
            "Iter: 44, avg elbo: 5.9112, avg reconst: 6.0127, avg kl: 3.0459, mse: 0.001725, mae: 0.024502\n",
            "Iter: 45, avg elbo: 5.9156, avg reconst: 5.8084, avg kl: 3.0210, mse: 0.001719, mae: 0.024478\n",
            "Iter: 46, avg elbo: 5.9009, avg reconst: 5.9319, avg kl: 2.9934, mse: 0.001721, mae: 0.024677\n",
            "Iter: 47, avg elbo: 5.6646, avg reconst: 5.8063, avg kl: 2.9360, mse: 0.001656, mae: 0.023927\n",
            "Iter: 48, avg elbo: 5.5654, avg reconst: 5.5891, avg kl: 2.9191, mse: 0.001637, mae: 0.023592\n",
            "Iter: 49, avg elbo: 5.3806, avg reconst: 5.3402, avg kl: 2.8529, mse: 0.001596, mae: 0.023194\n",
            "Iter: 50, avg elbo: 5.2702, avg reconst: 5.4511, avg kl: 2.8372, mse: 0.001583, mae: 0.023121\n",
            "Test Mean Squared Error tensor(0.0025, device='cuda:0')  Test Mean Absolute Error:  tensor(0.0253, device='cuda:0')\n",
            "Iter: 51, avg elbo: 5.1015, avg reconst: 5.0021, avg kl: 2.7837, mse: 0.001560, mae: 0.022974\n",
            "Iter: 52, avg elbo: 5.0278, avg reconst: 4.9558, avg kl: 2.7626, mse: 0.001540, mae: 0.022853\n",
            "Iter: 53, avg elbo: 5.0375, avg reconst: 5.0329, avg kl: 2.7151, mse: 0.001538, mae: 0.022658\n",
            "Iter: 54, avg elbo: 5.1960, avg reconst: 5.3016, avg kl: 2.7076, mse: 0.001532, mae: 0.022659\n",
            "Iter: 55, avg elbo: 4.9345, avg reconst: 4.8598, avg kl: 2.6572, mse: 0.001505, mae: 0.022729\n",
            "Iter: 56, avg elbo: 5.0416, avg reconst: 5.2113, avg kl: 2.6745, mse: 0.001491, mae: 0.022386\n",
            "Iter: 57, avg elbo: 6.0068, avg reconst: 5.8414, avg kl: 2.6167, mse: 0.001642, mae: 0.023906\n",
            "Iter: 58, avg elbo: 4.7648, avg reconst: 4.6656, avg kl: 2.6685, mse: 0.001467, mae: 0.022284\n",
            "Iter: 59, avg elbo: 4.4331, avg reconst: 4.2262, avg kl: 2.6233, mse: 0.001403, mae: 0.021701\n",
            "Iter: 60, avg elbo: 4.3746, avg reconst: 4.2876, avg kl: 2.5727, mse: 0.001396, mae: 0.021536\n",
            "Test Mean Squared Error tensor(0.0022, device='cuda:0')  Test Mean Absolute Error:  tensor(0.0229, device='cuda:0')\n",
            "Iter: 61, avg elbo: 5.6176, avg reconst: 5.5406, avg kl: 2.5800, mse: 0.001553, mae: 0.022573\n",
            "Iter: 62, avg elbo: 6.8435, avg reconst: 6.5347, avg kl: 2.8698, mse: 0.001798, mae: 0.025198\n",
            "Iter: 63, avg elbo: 5.6344, avg reconst: 5.3107, avg kl: 2.7477, mse: 0.001597, mae: 0.023579\n",
            "Iter: 64, avg elbo: 5.6365, avg reconst: 5.6322, avg kl: 2.6274, mse: 0.001549, mae: 0.023082\n",
            "Iter: 65, avg elbo: 5.3164, avg reconst: 5.1686, avg kl: 2.5532, mse: 0.001550, mae: 0.023178\n",
            "Iter: 66, avg elbo: 5.0916, avg reconst: 4.9634, avg kl: 2.5147, mse: 0.001507, mae: 0.022769\n",
            "Iter: 67, avg elbo: 4.7814, avg reconst: 4.5988, avg kl: 2.5082, mse: 0.001460, mae: 0.022177\n",
            "Iter: 68, avg elbo: 4.9189, avg reconst: 4.8702, avg kl: 2.4610, mse: 0.001449, mae: 0.022206\n",
            "Iter: 69, avg elbo: 4.8109, avg reconst: 4.7349, avg kl: 2.4171, mse: 0.001451, mae: 0.022081\n",
            "Iter: 70, avg elbo: 4.8878, avg reconst: 5.2282, avg kl: 2.3893, mse: 0.001464, mae: 0.022206\n",
            "Test Mean Squared Error tensor(0.0023, device='cuda:0')  Test Mean Absolute Error:  tensor(0.0237, device='cuda:0')\n",
            "Iter: 71, avg elbo: 4.6762, avg reconst: 4.5004, avg kl: 2.4613, mse: 0.001411, mae: 0.021893\n",
            "Iter: 72, avg elbo: 4.4112, avg reconst: 4.3319, avg kl: 2.4626, mse: 0.001363, mae: 0.021275\n",
            "Iter: 73, avg elbo: 4.4343, avg reconst: 4.2741, avg kl: 2.3810, mse: 0.001378, mae: 0.021395\n",
            "Iter: 74, avg elbo: 4.3652, avg reconst: 4.2744, avg kl: 2.4051, mse: 0.001346, mae: 0.021263\n",
            "Iter: 75, avg elbo: 4.7311, avg reconst: 4.6472, avg kl: 2.3988, mse: 0.001402, mae: 0.021505\n",
            "Iter: 76, avg elbo: 5.1287, avg reconst: 5.2792, avg kl: 2.5108, mse: 0.001463, mae: 0.022037\n",
            "Iter: 77, avg elbo: 4.1639, avg reconst: 3.9211, avg kl: 2.4218, mse: 0.001291, mae: 0.020489\n",
            "Iter: 78, avg elbo: 3.9340, avg reconst: 3.8435, avg kl: 2.3776, mse: 0.001260, mae: 0.020221\n",
            "Iter: 79, avg elbo: 4.8859, avg reconst: 4.9729, avg kl: 2.4099, mse: 0.001378, mae: 0.021321\n",
            "Iter: 80, avg elbo: 4.1870, avg reconst: 3.8736, avg kl: 2.3446, mse: 0.001300, mae: 0.020538\n",
            "Test Mean Squared Error tensor(0.0021, device='cuda:0')  Test Mean Absolute Error:  tensor(0.0217, device='cuda:0')\n",
            "Iter: 81, avg elbo: 3.9343, avg reconst: 3.8097, avg kl: 2.3139, mse: 0.001260, mae: 0.020262\n",
            "Iter: 82, avg elbo: 3.9683, avg reconst: 3.8533, avg kl: 2.3114, mse: 0.001265, mae: 0.020153\n",
            "Iter: 83, avg elbo: 3.8599, avg reconst: 3.6932, avg kl: 2.2823, mse: 0.001236, mae: 0.019816\n",
            "Iter: 84, avg elbo: 4.1988, avg reconst: 4.0934, avg kl: 2.2640, mse: 0.001275, mae: 0.020292\n",
            "Iter: 85, avg elbo: 4.1879, avg reconst: 4.0332, avg kl: 2.2786, mse: 0.001275, mae: 0.020414\n",
            "Iter: 86, avg elbo: 4.1895, avg reconst: 4.0754, avg kl: 2.2534, mse: 0.001300, mae: 0.020347\n",
            "Iter: 87, avg elbo: 3.6983, avg reconst: 3.3823, avg kl: 2.2455, mse: 0.001205, mae: 0.019550\n",
            "Iter: 88, avg elbo: 4.1286, avg reconst: 3.9457, avg kl: 2.2350, mse: 0.001230, mae: 0.019843\n",
            "Iter: 89, avg elbo: 4.0274, avg reconst: 3.8196, avg kl: 2.1852, mse: 0.001267, mae: 0.020180\n",
            "Iter: 90, avg elbo: 4.1681, avg reconst: 4.0223, avg kl: 2.1879, mse: 0.001263, mae: 0.019987\n",
            "Test Mean Squared Error tensor(0.0024, device='cuda:0')  Test Mean Absolute Error:  tensor(0.0246, device='cuda:0')\n",
            "Iter: 91, avg elbo: 4.0904, avg reconst: 3.9212, avg kl: 2.2009, mse: 0.001265, mae: 0.020347\n",
            "Iter: 92, avg elbo: 3.6353, avg reconst: 3.3175, avg kl: 2.1810, mse: 0.001196, mae: 0.019339\n",
            "Iter: 93, avg elbo: 3.7067, avg reconst: 3.5156, avg kl: 2.1500, mse: 0.001194, mae: 0.019465\n",
            "Iter: 94, avg elbo: 4.0664, avg reconst: 3.8237, avg kl: 2.1518, mse: 0.001207, mae: 0.019640\n",
            "Iter: 95, avg elbo: 3.7976, avg reconst: 3.5256, avg kl: 2.1855, mse: 0.001214, mae: 0.019767\n",
            "Iter: 96, avg elbo: 3.6572, avg reconst: 3.3392, avg kl: 2.1273, mse: 0.001180, mae: 0.019379\n",
            "Iter: 97, avg elbo: 3.4888, avg reconst: 3.1057, avg kl: 2.0964, mse: 0.001170, mae: 0.019182\n",
            "Iter: 98, avg elbo: 3.4946, avg reconst: 3.2343, avg kl: 2.0900, mse: 0.001165, mae: 0.019011\n",
            "Iter: 99, avg elbo: 3.8249, avg reconst: 3.6081, avg kl: 2.1092, mse: 0.001174, mae: 0.019228\n",
            "Iter: 100, avg elbo: 3.6760, avg reconst: 3.6335, avg kl: 2.1096, mse: 0.001183, mae: 0.019315\n",
            "Test Mean Squared Error tensor(0.0020, device='cuda:0')  Test Mean Absolute Error:  tensor(0.0210, device='cuda:0')\n"
          ]
        }
      ]
    },
    {
      "cell_type": "code",
      "source": [
        "# Running interpolation test task on PhysioNet 2012 dataset\n",
        "!python3 '/content/drive/MyDrive/ELEC 509/mTAN-main/mTAN-main/src/tan_interpolation.py' --niters 100 --lr 0.001 --batch-size 32 --rec-hidden 64 --latent-dim 16 --quantization 0.016  --enc mtan_rnn --dec mtan_rnn --n 8000  --gen-hidden 50 --save 1 --k-iwae 5 --std 0.01 --norm --learn-emb --kl --seed 0 --num-ref-points 64 --dataset physionet --sample-tp 0.9 --fname /content/physionet_mtan_rnn_mtan_rnn_12249.h5"
      ],
      "metadata": {
        "colab": {
          "base_uri": "https://localhost:8080/"
        },
        "id": "IhQKs0yoaYbL",
        "outputId": "cab8c816-68e8-40ed-9103-f1eb80492909"
      },
      "execution_count": null,
      "outputs": [
        {
          "output_type": "stream",
          "name": "stdout",
          "text": [
            "Namespace(niters=100, lr=0.001, std=0.01, latent_dim=16, rec_hidden=64, gen_hidden=50, embed_time=128, k_iwae=5, save=1, enc='mtan_rnn', dec='mtan_rnn', fname='/content/physionet_mtan_rnn_mtan_rnn_12249.h5', seed=0, n=8000, batch_size=32, quantization=0.016, classif=False, norm=True, kl=True, learn_emb=True, enc_num_heads=1, dec_num_heads=1, length=20, num_ref_points=64, dataset='physionet', enc_rnn=True, dec_rnn=True, sample_tp=0.9, only_periodic=None, dropout=0.0) 39068\n",
            "/content/drive/MyDrive/ELEC 509/mTAN-main/mTAN-main/src/physionet.py:85: FutureWarning: You are using `torch.load` with `weights_only=False` (the current default value), which uses the default pickle module implicitly. It is possible to construct malicious pickle data which will execute arbitrary code during unpickling (See https://github.com/pytorch/pytorch/blob/main/SECURITY.md#untrusted-models for more details). In a future release, the default value for `weights_only` will be flipped to `True`. This limits the functions that could be executed during unpickling. Arbitrary objects will no longer be allowed to be loaded via this mode unless they are explicitly allowlisted by the user via `torch.serialization.add_safe_globals`. We recommend you start setting `weights_only=True` for any use case where you don't have full control of the loaded file. Please open an issue on GitHub for any issues related to this experimental feature.\n",
            "  self.data = torch.load(os.path.join(self.processed_folder, data_file), map_location='cpu')\n",
            "/content/drive/MyDrive/ELEC 509/mTAN-main/mTAN-main/src/physionet.py:86: FutureWarning: You are using `torch.load` with `weights_only=False` (the current default value), which uses the default pickle module implicitly. It is possible to construct malicious pickle data which will execute arbitrary code during unpickling (See https://github.com/pytorch/pytorch/blob/main/SECURITY.md#untrusted-models for more details). In a future release, the default value for `weights_only` will be flipped to `True`. This limits the functions that could be executed during unpickling. Arbitrary objects will no longer be allowed to be loaded via this mode unless they are explicitly allowlisted by the user via `torch.serialization.add_safe_globals`. We recommend you start setting `weights_only=True` for any use case where you don't have full control of the loaded file. Please open an issue on GitHub for any issues related to this experimental feature.\n",
            "  self.labels = torch.load(os.path.join(self.processed_folder, self.label_file), map_location='cpu')\n",
            "4000\n",
            "torch.Size([4000, 203, 83]) torch.Size([1742, 178, 83])\n",
            "parameters: 96594 70921\n",
            "/content/drive/MyDrive/ELEC 509/mTAN-main/mTAN-main/src/tan_interpolation.py:92: FutureWarning: You are using `torch.load` with `weights_only=False` (the current default value), which uses the default pickle module implicitly. It is possible to construct malicious pickle data which will execute arbitrary code during unpickling (See https://github.com/pytorch/pytorch/blob/main/SECURITY.md#untrusted-models for more details). In a future release, the default value for `weights_only` will be flipped to `True`. This limits the functions that could be executed during unpickling. Arbitrary objects will no longer be allowed to be loaded via this mode unless they are explicitly allowlisted by the user via `torch.serialization.add_safe_globals`. We recommend you start setting `weights_only=True` for any use case where you don't have full control of the loaded file. Please open an issue on GitHub for any issues related to this experimental feature.\n",
            "  checkpoint = torch.load(args.fname)\n",
            "loading saved weights 100\n",
            "Test MSE:  tensor(0.0030, device='cuda:0') Test MAE:  tensor(0.0233, device='cuda:0')\n",
            "Test MSE:  tensor(0.0028, device='cuda:0') Test MAE:  tensor(0.0222, device='cuda:0')\n",
            "Test MSE:  tensor(0.0028, device='cuda:0') Test MAE:  tensor(0.0219, device='cuda:0')\n",
            "Test MSE:  tensor(0.0028, device='cuda:0') Test MAE:  tensor(0.0217, device='cuda:0')\n",
            "Test MSE:  tensor(0.0028, device='cuda:0') Test MAE:  tensor(0.0217, device='cuda:0')\n",
            "Iter: 1, avg elbo: 1.9096, avg reconst: 2.8452, avg kl: 4.8531, mse: 0.001153, mae: 0.018913\n",
            "Iter: 2, avg elbo: 1.5025, avg reconst: 2.5376, avg kl: 6.3313, mse: 0.001084, mae: 0.017855\n",
            "Iter: 3, avg elbo: 1.4558, avg reconst: 2.5006, avg kl: 6.8764, mse: 0.001077, mae: 0.017778\n",
            "Iter: 4, avg elbo: 1.3205, avg reconst: 2.3640, avg kl: 7.3439, mse: 0.001062, mae: 0.017597\n",
            "Iter: 5, avg elbo: 1.3661, avg reconst: 2.4013, avg kl: 7.6686, mse: 0.001070, mae: 0.017733\n",
            "Iter: 6, avg elbo: 1.3750, avg reconst: 2.2289, avg kl: 7.9811, mse: 0.001060, mae: 0.017636\n",
            "Iter: 7, avg elbo: 1.4776, avg reconst: 2.8635, avg kl: 8.2295, mse: 0.001081, mae: 0.017889\n",
            "Iter: 8, avg elbo: 1.6869, avg reconst: 3.4095, avg kl: 8.5206, mse: 0.001113, mae: 0.018084\n",
            "Iter: 9, avg elbo: 1.3753, avg reconst: 2.3833, avg kl: 8.9652, mse: 0.001065, mae: 0.017749\n",
            "Iter: 10, avg elbo: 2.5991, avg reconst: 3.5800, avg kl: 9.1653, mse: 0.001221, mae: 0.018618\n",
            "Test Mean Squared Error tensor(0.0039, device='cuda:0')  Test Mean Absolute Error:  tensor(0.0277, device='cuda:0')\n",
            "Iter: 11, avg elbo: 3.5874, avg reconst: 4.8229, avg kl: 8.2175, mse: 0.001434, mae: 0.021524\n",
            "Iter: 12, avg elbo: 3.1519, avg reconst: 3.9308, avg kl: 7.8590, mse: 0.001338, mae: 0.020709\n",
            "Traceback (most recent call last):\n",
            "  File \"/content/drive/MyDrive/ELEC 509/mTAN-main/mTAN-main/src/tan_interpolation.py\", line 158, in <module>\n",
            "    train_loss += loss.item() * batch_len\n",
            "KeyboardInterrupt\n"
          ]
        }
      ]
    },
    {
      "cell_type": "code",
      "source": [],
      "metadata": {
        "id": "276EmfmfnVHK"
      },
      "execution_count": null,
      "outputs": []
    }
  ]
}