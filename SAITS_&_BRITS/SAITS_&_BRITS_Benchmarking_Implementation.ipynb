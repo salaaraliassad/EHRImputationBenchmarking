{
  "cells": [
    {
      "cell_type": "code",
      "execution_count": null,
      "metadata": {
        "collapsed": true,
        "id": "PnQFcrW8VTM6"
      },
      "outputs": [],
      "source": [
        "!pip install numpy pandas scikit-learn tensorflow\n",
        "!pip install tsdb"
      ]
    },
    {
      "cell_type": "code",
      "execution_count": null,
      "metadata": {
        "colab": {
          "base_uri": "https://localhost:8080/"
        },
        "id": "x5lWN4o4CgBm",
        "outputId": "466124d6-12e9-4a6f-fcb3-340000231857"
      },
      "outputs": [],
      "source": [
        "%cd './SAITS_&_BRITS' # Change to desired file directory"
      ]
    },
    {
      "cell_type": "markdown",
      "metadata": {
        "id": "8QXxGAjlUw9m"
      },
      "source": [
        "# Data Generation\n",
        "(only needs to be run once)"
      ]
    },
    {
      "cell_type": "code",
      "execution_count": null,
      "metadata": {
        "colab": {
          "base_uri": "https://localhost:8080/"
        },
        "collapsed": true,
        "id": "9ui075DpVWlu",
        "outputId": "f4b1f029-a140-4230-c593-db10ea2c3768"
      },
      "outputs": [],
      "source": [
        "# Create relevant folders to store PhysioNet 2012 data\n",
        "!mkdir './SAITS_&_BRITS/SAITS/RawData'\n",
        "!mkdir './SAITS_&_BRITS/SAITS/RawData/Physio2012_mega'"
      ]
    },
    {
      "cell_type": "code",
      "execution_count": null,
      "metadata": {
        "colab": {
          "base_uri": "https://localhost:8080/"
        },
        "id": "ouLtshMnIBcj",
        "outputId": "8246004e-d94c-4309-c092-cf04fa0d0495"
      },
      "outputs": [],
      "source": [
        "%cd './SAITS_&_BRITS/SAITS/RawData/Physio2012_mega'"
      ]
    },
    {
      "cell_type": "code",
      "execution_count": null,
      "metadata": {
        "colab": {
          "base_uri": "https://localhost:8080/"
        },
        "id": "egz2pkNLbVg_",
        "outputId": "3f1eec97-2f00-4c12-c666-70b955533354"
      },
      "outputs": [],
      "source": [
        "# for PhysioNet-2012\n",
        "# Downloads and extracts the dataset\n",
        "! wget https://www.physionet.org/files/challenge-2012/1.0.0/set-a.tar.gz?download -O set-a.tar.gz\n",
        "! wget https://www.physionet.org/files/challenge-2012/1.0.0/set-b.tar.gz?download -O set-b.tar.gz\n",
        "! wget https://www.physionet.org/files/challenge-2012/1.0.0/set-c.tar.gz?download -O set-c.tar.gz\n",
        "\n",
        "! wget https://www.physionet.org/files/challenge-2012/1.0.0/Outcomes-a.txt?download -O Outcomes-a.txt\n",
        "! wget https://www.physionet.org/files/challenge-2012/1.0.0/Outcomes-b.txt?download -O Outcomes-b.txt\n",
        "! wget https://www.physionet.org/files/challenge-2012/1.0.0/Outcomes-c.txt?download -O Outcomes-c.txt\n",
        "\n",
        "! tar -zxf set-a.tar.gz && tar -zxf set-b.tar.gz && tar -zxf set-c.tar.gz\n"
      ]
    },
    {
      "cell_type": "code",
      "execution_count": null,
      "metadata": {
        "colab": {
          "base_uri": "https://localhost:8080/"
        },
        "id": "E0Arjr9wF1qp",
        "outputId": "63b8f065-f748-4735-e77c-631e9974c08d"
      },
      "outputs": [],
      "source": [
        "# Moves extracted data into the correct folder\n",
        "%cd './SAITS_&_BRITS/SAITS/RawData/Physio2012_mega'\n",
        "! mkdir Set_A && mv set-a/* Set_A\n",
        "! mkdir Set_B && mv set-b/* Set_B"
      ]
    },
    {
      "cell_type": "code",
      "execution_count": null,
      "metadata": {
        "colab": {
          "base_uri": "https://localhost:8080/"
        },
        "id": "MotJCBaXEgbk",
        "outputId": "b82f3bd7-f6ec-43f9-a5e0-df988c581240"
      },
      "outputs": [],
      "source": [
        "%cd './SAITS_&_BRITS/SAITS'"
      ]
    },
    {
      "cell_type": "code",
      "execution_count": null,
      "metadata": {
        "colab": {
          "base_uri": "https://localhost:8080/"
        },
        "id": "PNU11dCvVnqU",
        "outputId": "800c502d-c67c-4a69-f630-110c6c94f2d7"
      },
      "outputs": [],
      "source": [
        "# Generating the processed PhysioNet 2012 dataset\n",
        "!python './SAITS_&_BRITS/SAITS/dataset_generating_scripts/gene_PhysioNet2012_dataset.py' \\\n",
        "  --raw_data_path_SetA './SAITS_&_BRITS/RawData/Physio2012_mega/Set_A' \\\n",
        "  --raw_data_path_SetB './SAITS_&_BRITS/SAITS/RawData/Physio2012_mega/Set_B' \\\n",
        "  --outcome_files_dir './SAITS_&_BRITS/SAITS/RawData/Physio2012_mega' \\\n",
        "  --dataset_name physio2012_37feats_01masked\\\n",
        "  --saving_path './SAITS_&_BRITS/SAITS/generated_datasets'"
      ]
    },
    {
      "cell_type": "markdown",
      "metadata": {
        "id": "cYuEL9mOYZgl"
      },
      "source": [
        "# Run SAITS"
      ]
    },
    {
      "cell_type": "code",
      "execution_count": null,
      "metadata": {
        "colab": {
          "base_uri": "https://localhost:8080/"
        },
        "id": "a850QqfpYvNP",
        "outputId": "1b549e20-c49e-4e63-8e05-49219b589b0f"
      },
      "outputs": [
        {
          "name": "stdout",
          "output_type": "stream",
          "text": [
            "/content/drive/MyDrive/ELEC 509/SAITS\n"
          ]
        }
      ],
      "source": [
        "%cd './SAITS_&_BRITS/SAITS'"
      ]
    },
    {
      "cell_type": "code",
      "execution_count": null,
      "metadata": {
        "colab": {
          "base_uri": "https://localhost:8080/"
        },
        "collapsed": true,
        "id": "Xe68LFbhV4f1",
        "outputId": "06c37535-c2de-4319-fdf8-339531edf8ce"
      },
      "outputs": [],
      "source": [
        "# Training\n",
        "!python './SAITS_&_BRITS/SAITS/run_models.py' \\\n",
        "    --config_path './SAITS_&_BRITS/SAITS/configs/PhysioNet2012_SAITS_best.ini' \\\n",
        "    > './SAITS_&_BRITS/SAITS/NIPS_results/PhysioNet2012_SAITS_best.out'"
      ]
    },
    {
      "cell_type": "code",
      "execution_count": null,
      "metadata": {
        "colab": {
          "base_uri": "https://localhost:8080/"
        },
        "id": "rHHGScxAWI_j",
        "outputId": "c2406165-0e1a-476c-b3dd-e4f73d546dd9"
      },
      "outputs": [],
      "source": [
        "# Testing\n",
        "!python run_models.py \\\n",
        "    --config_path './SAITS_&_BRITS/SAITS/configs/PhysioNet2012_SAITS_best.ini' \\\n",
        "    --test_mode"
      ]
    },
    {
      "cell_type": "markdown",
      "metadata": {
        "id": "3vwySDCgvBST"
      },
      "source": [
        "# Run BRITS"
      ]
    },
    {
      "cell_type": "code",
      "execution_count": null,
      "metadata": {
        "colab": {
          "base_uri": "https://localhost:8080/"
        },
        "id": "sngeYDqGOYSF",
        "outputId": "87fc9750-2f32-412a-a318-a6977fd009fd"
      },
      "outputs": [],
      "source": [
        "# Training\n",
        "!python './SAITS_&_BRITS/SAITS/run_models.py' \\\n",
        "    --config_path './SAITS_&_BRITS/SAITS/configs/PhysioNet2012_BRITS_best.ini' \\\n",
        "    > './SAITS_&_BRITS/SAITS/NIPS_results/PhysioNet2012_SAITS_best.out'"
      ]
    },
    {
      "cell_type": "code",
      "execution_count": null,
      "metadata": {
        "colab": {
          "base_uri": "https://localhost:8080/"
        },
        "id": "FSvCYxpWvORq",
        "outputId": "b251534f-3cdd-43c4-f7a0-63ac1d4dabdd"
      },
      "outputs": [],
      "source": [
        "# Testing\n",
        "!python run_models.py \\\n",
        "    --config_path './SAITS_&_BRITS/SAITS/configs/PhysioNet2012_BRITS_best.ini' \\\n",
        "    --test_mode"
      ]
    }
  ],
  "metadata": {
    "accelerator": "GPU",
    "colab": {
      "gpuType": "T4",
      "provenance": []
    },
    "kernelspec": {
      "display_name": "Python 3",
      "name": "python3"
    },
    "language_info": {
      "name": "python"
    }
  },
  "nbformat": 4,
  "nbformat_minor": 0
}
