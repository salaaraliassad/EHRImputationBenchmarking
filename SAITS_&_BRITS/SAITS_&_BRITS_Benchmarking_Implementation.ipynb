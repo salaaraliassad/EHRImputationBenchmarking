{
  "nbformat": 4,
  "nbformat_minor": 0,
  "metadata": {
    "colab": {
      "provenance": [],
      "gpuType": "T4"
    },
    "kernelspec": {
      "name": "python3",
      "display_name": "Python 3"
    },
    "language_info": {
      "name": "python"
    },
    "accelerator": "GPU"
  },
  "cells": [
    {
      "cell_type": "code",
      "source": [
        "!pip install numpy pandas scikit-learn tensorflow\n",
        "!pip install tsdb"
      ],
      "metadata": {
        "collapsed": true,
        "id": "PnQFcrW8VTM6"
      },
      "execution_count": null,
      "outputs": []
    },
    {
      "cell_type": "code",
      "source": [
        "%cd '/content' # Change to desired file directory"
      ],
      "metadata": {
        "colab": {
          "base_uri": "https://localhost:8080/"
        },
        "id": "x5lWN4o4CgBm",
        "outputId": "466124d6-12e9-4a6f-fcb3-340000231857"
      },
      "execution_count": null,
      "outputs": [
        {
          "output_type": "stream",
          "name": "stdout",
          "text": [
            "/content/drive/MyDrive/ELEC 509\n"
          ]
        }
      ]
    },
    {
      "cell_type": "markdown",
      "source": [
        "# Data Generation\n",
        "(only needs to be run once)"
      ],
      "metadata": {
        "id": "8QXxGAjlUw9m"
      }
    },
    {
      "cell_type": "code",
      "source": [
        "# Make a clone of the SAITS respository on Github and create relevant folders to store PhysioNet 2012 data\n",
        "!git clone https://github.com/WenjieDu/SAITS.git\n",
        "!mkdir '/content/SAITS/RawData'\n",
        "!mkdir '/content/SAITS/RawData/Physio2012_mega'"
      ],
      "metadata": {
        "colab": {
          "base_uri": "https://localhost:8080/"
        },
        "collapsed": true,
        "id": "9ui075DpVWlu",
        "outputId": "f4b1f029-a140-4230-c593-db10ea2c3768"
      },
      "execution_count": null,
      "outputs": [
        {
          "output_type": "stream",
          "name": "stdout",
          "text": [
            "fatal: destination path 'SAITS' already exists and is not an empty directory.\n",
            "mkdir: cannot create directory ‘/content/SAITS/RawData’: File exists\n",
            "mkdir: cannot create directory ‘/content/SAITS/RawData/Physio2012_mega’: File exists\n"
          ]
        }
      ]
    },
    {
      "cell_type": "code",
      "source": [
        "%cd '/content/SAITS/RawData/Physio2012_mega'"
      ],
      "metadata": {
        "colab": {
          "base_uri": "https://localhost:8080/"
        },
        "id": "ouLtshMnIBcj",
        "outputId": "8246004e-d94c-4309-c092-cf04fa0d0495"
      },
      "execution_count": null,
      "outputs": [
        {
          "output_type": "stream",
          "name": "stdout",
          "text": [
            "/content/SAITS/RawData/Physio2012_mega\n"
          ]
        }
      ]
    },
    {
      "cell_type": "code",
      "source": [
        "# for PhysioNet-2012\n",
        "# Downloads and extracts the dataset\n",
        "! wget https://www.physionet.org/files/challenge-2012/1.0.0/set-a.tar.gz?download -O set-a.tar.gz\n",
        "! wget https://www.physionet.org/files/challenge-2012/1.0.0/set-b.tar.gz?download -O set-b.tar.gz\n",
        "! wget https://www.physionet.org/files/challenge-2012/1.0.0/set-c.tar.gz?download -O set-c.tar.gz\n",
        "\n",
        "! wget https://www.physionet.org/files/challenge-2012/1.0.0/Outcomes-a.txt?download -O Outcomes-a.txt\n",
        "! wget https://www.physionet.org/files/challenge-2012/1.0.0/Outcomes-b.txt?download -O Outcomes-b.txt\n",
        "! wget https://www.physionet.org/files/challenge-2012/1.0.0/Outcomes-c.txt?download -O Outcomes-c.txt\n",
        "\n",
        "! tar -zxf set-a.tar.gz && tar -zxf set-b.tar.gz && tar -zxf set-c.tar.gz\n"
      ],
      "metadata": {
        "colab": {
          "base_uri": "https://localhost:8080/"
        },
        "id": "egz2pkNLbVg_",
        "outputId": "3f1eec97-2f00-4c12-c666-70b955533354"
      },
      "execution_count": null,
      "outputs": [
        {
          "output_type": "stream",
          "name": "stdout",
          "text": [
            "--2024-12-09 06:41:32--  https://www.physionet.org/files/challenge-2012/1.0.0/set-a.tar.gz?download\n",
            "Resolving www.physionet.org (www.physionet.org)... 18.18.42.54\n",
            "Connecting to www.physionet.org (www.physionet.org)|18.18.42.54|:443... connected.\n",
            "HTTP request sent, awaiting response... 200 OK\n",
            "Length: 6632372 (6.3M) [application/gzip]\n",
            "Saving to: ‘set-a.tar.gz’\n",
            "\n",
            "set-a.tar.gz        100%[===================>]   6.32M   690KB/s    in 9.4s    \n",
            "\n",
            "2024-12-09 06:41:42 (692 KB/s) - ‘set-a.tar.gz’ saved [6632372/6632372]\n",
            "\n",
            "--2024-12-09 06:41:42--  https://www.physionet.org/files/challenge-2012/1.0.0/set-b.tar.gz?download\n",
            "Resolving www.physionet.org (www.physionet.org)... 18.18.42.54\n",
            "Connecting to www.physionet.org (www.physionet.org)|18.18.42.54|:443... connected.\n",
            "HTTP request sent, awaiting response... 200 OK\n",
            "Length: 6652690 (6.3M) [application/gzip]\n",
            "Saving to: ‘set-b.tar.gz’\n",
            "\n",
            "set-b.tar.gz        100%[===================>]   6.34M   663KB/s    in 9.7s    \n",
            "\n",
            "2024-12-09 06:41:52 (672 KB/s) - ‘set-b.tar.gz’ saved [6652690/6652690]\n",
            "\n",
            "--2024-12-09 06:41:52--  https://www.physionet.org/files/challenge-2012/1.0.0/set-c.tar.gz?download\n",
            "Resolving www.physionet.org (www.physionet.org)... 18.18.42.54\n",
            "Connecting to www.physionet.org (www.physionet.org)|18.18.42.54|:443... connected.\n",
            "HTTP request sent, awaiting response... 200 OK\n",
            "Length: 6600293 (6.3M) [application/gzip]\n",
            "Saving to: ‘set-c.tar.gz’\n",
            "\n",
            "set-c.tar.gz        100%[===================>]   6.29M   674KB/s    in 9.6s    \n",
            "\n",
            "2024-12-09 06:42:01 (671 KB/s) - ‘set-c.tar.gz’ saved [6600293/6600293]\n",
            "\n",
            "--2024-12-09 06:42:02--  https://www.physionet.org/files/challenge-2012/1.0.0/Outcomes-a.txt?download\n",
            "Resolving www.physionet.org (www.physionet.org)... 18.18.42.54\n",
            "Connecting to www.physionet.org (www.physionet.org)|18.18.42.54|:443... connected.\n",
            "HTTP request sent, awaiting response... 200 OK\n",
            "Length: 79219 (77K) [text/plain]\n",
            "Saving to: ‘Outcomes-a.txt’\n",
            "\n",
            "Outcomes-a.txt      100%[===================>]  77.36K  --.-KB/s    in 0.09s   \n",
            "\n",
            "2024-12-09 06:42:02 (816 KB/s) - ‘Outcomes-a.txt’ saved [79219/79219]\n",
            "\n",
            "--2024-12-09 06:42:02--  https://www.physionet.org/files/challenge-2012/1.0.0/Outcomes-b.txt?download\n",
            "Resolving www.physionet.org (www.physionet.org)... 18.18.42.54\n",
            "Connecting to www.physionet.org (www.physionet.org)|18.18.42.54|:443... connected.\n",
            "HTTP request sent, awaiting response... 200 OK\n",
            "Length: 79149 (77K) [text/plain]\n",
            "Saving to: ‘Outcomes-b.txt’\n",
            "\n",
            "Outcomes-b.txt      100%[===================>]  77.29K  --.-KB/s    in 0.09s   \n",
            "\n",
            "2024-12-09 06:42:02 (894 KB/s) - ‘Outcomes-b.txt’ saved [79149/79149]\n",
            "\n",
            "--2024-12-09 06:42:02--  https://www.physionet.org/files/challenge-2012/1.0.0/Outcomes-c.txt?download\n",
            "Resolving www.physionet.org (www.physionet.org)... 18.18.42.54\n",
            "Connecting to www.physionet.org (www.physionet.org)|18.18.42.54|:443... connected.\n",
            "HTTP request sent, awaiting response... 200 OK\n",
            "Length: 79191 (77K) [text/plain]\n",
            "Saving to: ‘Outcomes-c.txt’\n",
            "\n",
            "Outcomes-c.txt      100%[===================>]  77.33K  --.-KB/s    in 0.09s   \n",
            "\n",
            "2024-12-09 06:42:03 (869 KB/s) - ‘Outcomes-c.txt’ saved [79191/79191]\n",
            "\n"
          ]
        }
      ]
    },
    {
      "cell_type": "code",
      "source": [
        "# Moves extracted data into the correct folder\n",
        "%cd '/content/SAITS/RawData/Physio2012_mega'\n",
        "! mkdir Set_A && mv set-a/* Set_A\n",
        "! mkdir Set_B && mv set-b/* Set_B"
      ],
      "metadata": {
        "colab": {
          "base_uri": "https://localhost:8080/"
        },
        "id": "E0Arjr9wF1qp",
        "outputId": "63b8f065-f748-4735-e77c-631e9974c08d"
      },
      "execution_count": null,
      "outputs": [
        {
          "output_type": "stream",
          "name": "stdout",
          "text": [
            "/content/SAITS/RawData/Physio2012_mega\n",
            "mkdir: cannot create directory ‘Set_A’: File exists\n",
            "mkdir: cannot create directory ‘Set_B’: File exists\n"
          ]
        }
      ]
    },
    {
      "cell_type": "code",
      "source": [
        "%cd '/content/SAITS'"
      ],
      "metadata": {
        "colab": {
          "base_uri": "https://localhost:8080/"
        },
        "id": "MotJCBaXEgbk",
        "outputId": "b82f3bd7-f6ec-43f9-a5e0-df988c581240"
      },
      "execution_count": null,
      "outputs": [
        {
          "output_type": "stream",
          "name": "stdout",
          "text": [
            "/content/SAITS\n"
          ]
        }
      ]
    },
    {
      "cell_type": "code",
      "source": [
        "# Generating the processed PhysioNet 2012 dataset\n",
        "!python '/content/SAITS/dataset_generating_scripts/gene_PhysioNet2012_dataset.py' \\\n",
        "  --raw_data_path_SetA '/content/SAITS/RawData/Physio2012_mega/Set_A' \\\n",
        "  --raw_data_path_SetB '/content/SAITS/RawData/Physio2012_mega/Set_B' \\\n",
        "  --outcome_files_dir '/content/SAITS/RawData/Physio2012_mega' \\\n",
        "  --dataset_name physio2012_37feats_01masked\\\n",
        "  --saving_path '/content/SAITS/generated_datasets'"
      ],
      "metadata": {
        "colab": {
          "base_uri": "https://localhost:8080/"
        },
        "id": "PNU11dCvVnqU",
        "outputId": "800c502d-c67c-4a69-f630-110c6c94f2d7"
      },
      "execution_count": null,
      "outputs": [
        {
          "output_type": "stream",
          "name": "stdout",
          "text": [
            "2024-12-15 05:35:36,460 - Namespace(raw_data_path_SetA='/content/drive/MyDrive/ELEC 509/SAITS/RawData/Physio2012_mega/Set_A', raw_data_path_SetB='/content/drive/MyDrive/ELEC 509/SAITS/RawData/Physio2012_mega/Set_B', outcome_files_dir='/content/drive/MyDrive/ELEC 509/SAITS/RawData/Physio2012_mega', artificial_missing_rate=0.1, train_frac=0.8, val_frac=0.2, dataset_name='physio2012_37feats_01masked', saving_path='/content/drive/MyDrive/ELEC 509/SAITS/generated_datasets')\n",
            "2024-12-15 05:36:07,221 - Pass 140501, because its len==1, having no time series data\n",
            "2024-12-15 05:37:03,500 - Pass 140936, because its len==1, having no time series data\n",
            "2024-12-15 05:37:06,597 - Pass 141264, because its len==1, having no time series data\n",
            "2024-12-15 05:39:28,424 - Pass 150649, because its len==1, having no time series data\n",
            "2024-12-15 05:39:49,530 - Pass 150309, because its len==1, having no time series data\n",
            "2024-12-15 05:39:51,061 - Pass 145611, because its len==1, having no time series data\n",
            "2024-12-15 05:40:00,894 - Pass 147514, because its len==1, having no time series data\n",
            "2024-12-15 05:40:01,573 - Pass 142998, because its len==1, having no time series data\n",
            "2024-12-15 05:40:02,079 - Pass 142731, because its len==1, having no time series data\n",
            "2024-12-15 05:40:03,736 - Pass 143656, because its len==1, having no time series data\n",
            "2024-12-15 05:40:17,818 - There are total 3197 patients in train set.\n",
            "2024-12-15 05:40:17,818 - There are total 800 patients in val set.\n",
            "2024-12-15 05:40:17,818 - There are total 3993 patients in test set.\n",
            "2024-12-15 05:40:18,081 - Trimming 10 rows to make data reshapeable.\n",
            "2024-12-15 05:40:18,215 - In val set, num of artificially-masked values: 27314.0\n",
            "2024-12-15 05:40:18,216 - In test set, num of artificially-masked values: 1659.0\n",
            "2024-12-15 05:40:18,216 - All saved features (Set A): ['ALP', 'ALT', 'AST', 'Albumin', 'BUN', 'Bilirubin', 'Cholesterol', 'Creatinine', 'DiasABP', 'FiO2', 'GCS', 'Glucose', 'HCO3', 'HCT', 'HR', 'K', 'Lactate', 'MAP', 'MechVent', 'Mg', 'NIDiasABP', 'NIMAP', 'NISysABP', 'Na', 'PaCO2', 'PaO2', 'Platelets', 'RespRate', 'SaO2', 'SysABP', 'Temp', 'TroponinI', 'TroponinT', 'Urine', 'WBC', 'Weight', 'pH']\n",
            "2024-12-15 05:40:18,234 - All saved features (Set B): ['ALP', 'ALT', 'AST', 'Albumin', 'BUN', 'Bilirubin', 'Cholesterol', 'Creatinine', 'DiasABP', 'FiO2', 'GCS', 'Glucose', 'HCO3', 'HCT', 'HR', 'K', 'Lactate', 'MAP', 'MechVent', 'Mg', 'NIDiasABP', 'NIMAP', 'NISysABP', 'Na', 'PaCO2', 'PaO2', 'Platelets', 'RespRate', 'SaO2', 'SysABP', 'Temp', 'TroponinI', 'TroponinT', 'Urine', 'WBC', 'Weight', 'pH']\n",
            "2024-12-15 05:40:18,236 - Positive rate in train set: 438/3197=0.137\n",
            "2024-12-15 05:40:18,236 - Positive rate in val set: 116/800=0.145\n",
            "2024-12-15 05:40:18,236 - Positive rate in test set: 11/53=0.208\n",
            "2024-12-15 05:40:18,236 - Dataset overall positive rate: 0.140\n",
            "2024-12-15 05:40:18,249 - Dataset A overall missing rate of original feature vectors (without any artificial mask): 0.797\n",
            "2024-12-15 05:40:18,249 - Dataset B overall missing rate of original feature vectors (without any artificial mask): 0.813\n",
            "2024-12-15 05:40:18 [INFO]: Successfully saved to /content/drive/MyDrive/ELEC 509/SAITS/generated_datasets/physio2012_37feats_01masked/scaler\n",
            "2024-12-15 05:40:18,370 - All done. Saved to /content/drive/MyDrive/ELEC 509/SAITS/generated_datasets/physio2012_37feats_01masked.\n"
          ]
        }
      ]
    },
    {
      "cell_type": "markdown",
      "source": [
        "# Run SAITS"
      ],
      "metadata": {
        "id": "cYuEL9mOYZgl"
      }
    },
    {
      "cell_type": "code",
      "source": [
        "%cd '/content/SAITS'"
      ],
      "metadata": {
        "colab": {
          "base_uri": "https://localhost:8080/"
        },
        "id": "a850QqfpYvNP",
        "outputId": "1b549e20-c49e-4e63-8e05-49219b589b0f"
      },
      "execution_count": null,
      "outputs": [
        {
          "output_type": "stream",
          "name": "stdout",
          "text": [
            "/content/SAITS\n"
          ]
        }
      ]
    },
    {
      "cell_type": "code",
      "source": [
        "# Training\n",
        "!python '/content/SAITS/run_models.py' \\\n",
        "    --config_path '/content/SAITS/configs/PhysioNet2012_SAITS_best.ini' \\\n",
        "    > '/content/SAITS/NIPS_results/PhysioNet2012_SAITS_best.out'"
      ],
      "metadata": {
        "colab": {
          "base_uri": "https://localhost:8080/"
        },
        "id": "Xe68LFbhV4f1",
        "outputId": "06c37535-c2de-4319-fdf8-339531edf8ce",
        "collapsed": true
      },
      "execution_count": null,
      "outputs": [
        {
          "output_type": "stream",
          "name": "stdout",
          "text": [
            "2024-12-15 06:07:42.494439: E external/local_xla/xla/stream_executor/cuda/cuda_fft.cc:485] Unable to register cuFFT factory: Attempting to register factory for plugin cuFFT when one has already been registered\n",
            "2024-12-15 06:07:42.515227: E external/local_xla/xla/stream_executor/cuda/cuda_dnn.cc:8454] Unable to register cuDNN factory: Attempting to register factory for plugin cuDNN when one has already been registered\n",
            "2024-12-15 06:07:42.521546: E external/local_xla/xla/stream_executor/cuda/cuda_blas.cc:1452] Unable to register cuBLAS factory: Attempting to register factory for plugin cuBLAS when one has already been registered\n",
            "2024-12-15 06:07:42.536559: I tensorflow/core/platform/cpu_feature_guard.cc:210] This TensorFlow binary is optimized to use available CPU instructions in performance-critical operations.\n",
            "To enable the following instructions: AVX2 AVX512F FMA, in other operations, rebuild TensorFlow with the appropriate compiler flags.\n",
            "2024-12-15 06:07:43.581616: W tensorflow/compiler/tf2tensorrt/utils/py_utils.cc:38] TF-TRT Warning: Could not find TensorRT\n",
            "2024-12-15 06:07:46,137 - args: Namespace(config_path='/content/drive/MyDrive/ELEC 509/SAITS/configs/PhysioNet2012_BRITS_best.ini', test_mode=False, param_searching_mode=False, dataset_base_dir='generated_datasets', result_saving_base_dir='NIPS_results', seq_len=48, batch_size=128, num_workers=4, feature_num=37, dataset_name='physio2012_37feats_01masked', dataset_path='generated_datasets/physio2012_37feats_01masked', eval_every_n_steps=60, MIT=False, ORT=True, lr=0.0011223987784673931, optimizer_type='adam', weight_decay=0.0, device='cuda', epochs=10000, early_stop_patience=30, model_saving_strategy='best', max_norm=0.0, imputation_loss_weight=1.0, reconstruction_loss_weight=1.0, model_name='PhysioNet2012_BRITS_best', model_type='BRITS', consistency_loss_weight=1.0, rnn_hidden_size=256, model_saving='NIPS_results/PhysioNet2012_BRITS_best/models/2024-12-15_T06:07:46', log_saving='NIPS_results/PhysioNet2012_BRITS_best/logs')\n",
            "2024-12-15 06:07:46,139 - Config file path: /content/drive/MyDrive/ELEC 509/SAITS/configs/PhysioNet2012_BRITS_best.ini\n",
            "2024-12-15 06:07:46,140 - Model name: PhysioNet2012_BRITS_best\n",
            "2024-12-15 06:07:46,149 - Num of total trainable params is: 729584\n",
            "2024-12-15 06:07:46,297 - Creating adam optimizer...\n",
            "2024-12-15 06:07:47,397 - Entering training mode...\n",
            "2024-12-15 06:07:48,736 - train set len is 3197, batch size is 128,so each epoch has 25 steps\n",
            "Traceback (most recent call last):\n",
            "  File \"/content/drive/MyDrive/ELEC 509/SAITS/run_models.py\", line 670, in <module>\n",
            "    tb_summary_writer = SummaryWriter(\n",
            "  File \"/usr/local/lib/python3.10/dist-packages/torch/utils/tensorboard/writer.py\", line 250, in __init__\n",
            "    self._get_file_writer()\n",
            "  File \"/usr/local/lib/python3.10/dist-packages/torch/utils/tensorboard/writer.py\", line 265, in _get_file_writer\n",
            "    self.file_writer = FileWriter(\n",
            "  File \"/usr/local/lib/python3.10/dist-packages/torch/utils/tensorboard/writer.py\", line 76, in __init__\n",
            "    self.event_writer = EventFileWriter(\n",
            "  File \"/usr/local/lib/python3.10/dist-packages/tensorboard/summary/writer/event_file_writer.py\", line 72, in __init__\n",
            "    tf.io.gfile.makedirs(logdir)\n",
            "  File \"/usr/local/lib/python3.10/dist-packages/tensorflow/python/lib/io/file_io.py\", line 513, in recursive_create_dir_v2\n",
            "    _pywrap_file_io.RecursivelyCreateDir(compat.path_to_bytes(path))\n",
            "KeyboardInterrupt\n"
          ]
        }
      ]
    },
    {
      "cell_type": "code",
      "source": [
        "# Testing\n",
        "!python run_models.py \\\n",
        "    --config_path '/content/SAITS/configs/PhysioNet2012_SAITS_best.ini' \\\n",
        "    --test_mode"
      ],
      "metadata": {
        "colab": {
          "base_uri": "https://localhost:8080/"
        },
        "id": "rHHGScxAWI_j",
        "outputId": "c2406165-0e1a-476c-b3dd-e4f73d546dd9"
      },
      "execution_count": null,
      "outputs": [
        {
          "output_type": "stream",
          "name": "stdout",
          "text": [
            "2024-12-15 05:52:39.236762: E external/local_xla/xla/stream_executor/cuda/cuda_fft.cc:485] Unable to register cuFFT factory: Attempting to register factory for plugin cuFFT when one has already been registered\n",
            "2024-12-15 05:52:39.276110: E external/local_xla/xla/stream_executor/cuda/cuda_dnn.cc:8454] Unable to register cuDNN factory: Attempting to register factory for plugin cuDNN when one has already been registered\n",
            "2024-12-15 05:52:39.286564: E external/local_xla/xla/stream_executor/cuda/cuda_blas.cc:1452] Unable to register cuBLAS factory: Attempting to register factory for plugin cuBLAS when one has already been registered\n",
            "2024-12-15 05:52:39.309174: I tensorflow/core/platform/cpu_feature_guard.cc:210] This TensorFlow binary is optimized to use available CPU instructions in performance-critical operations.\n",
            "To enable the following instructions: AVX2 AVX512F FMA, in other operations, rebuild TensorFlow with the appropriate compiler flags.\n",
            "2024-12-15 05:52:40.808895: W tensorflow/compiler/tf2tensorrt/utils/py_utils.cc:38] TF-TRT Warning: Could not find TensorRT\n",
            "2024-12-15 05:52:43,547 - args: Namespace(config_path='/content/drive/MyDrive/ELEC 509/SAITS/configs/PhysioNet2012_SAITS_best.ini', test_mode=True, param_searching_mode=False, dataset_base_dir='generated_datasets', result_saving_base_dir='NIPS_results', seq_len=48, batch_size=128, num_workers=4, feature_num=37, dataset_name='physio2012_37feats_01masked', dataset_path='generated_datasets/physio2012_37feats_01masked', eval_every_n_steps=60, MIT=True, ORT=True, lr=0.000682774550436755, optimizer_type='adam', weight_decay=0.0, device='cuda', epochs=10000, early_stop_patience=30, model_saving_strategy='best', max_norm=0.0, imputation_loss_weight=1.0, reconstruction_loss_weight=1.0, model_name='PhysioNet2012_SAITS_best', model_type='SAITS', input_with_mask=True, n_groups=5, n_group_inner_layers=1, param_sharing_strategy='inner_group', d_model=256, d_inner=512, n_head=8, d_k=32, d_v=32, dropout=0.0, diagonal_attention_mask=True, model_saving=None, log_saving='NIPS_results/PhysioNet2012_SAITS_best/test_log')\n",
            "2024-12-15 05:52:43,548 - Config file path: /content/drive/MyDrive/ELEC 509/SAITS/configs/PhysioNet2012_SAITS_best.ini\n",
            "2024-12-15 05:52:43,549 - Model name: PhysioNet2012_SAITS_best\n",
            "2024-12-15 05:52:43,622 - Num of total trainable params is: 5322806\n",
            "2024-12-15 05:52:43,783 - Entering testing mode...\n",
            "2024-12-15 05:52:43,860 - Already restored model from checkpoint: /content/drive/MyDrive/ELEC 509/SAITS/NIPS_results/PhysioNet2012_SAITS_best/models/2024-12-12_T05:27:27/model_trainStep_5340_valStep_89_imputationMAE_0.2091\n",
            "2024-12-15 05:52:45,222 - Start evaluating on whole test set...\n",
            "2024-12-15 05:52:46,385 - Overall performance metrics are listed as follows:\n",
            "2024-12-15 05:52:46,387 - imputation_MAE on the test set: 0.7729686498641968\n",
            "2024-12-15 05:52:46,649 - imputation_RMSE on the test set: 1.174608588218689\n",
            "2024-12-15 05:52:46,651 - imputation_MRE on the test set: 0.9133816957473755\n",
            "2024-12-15 05:52:46,652 - trainable parameter num: 5322806\n",
            "2024-12-15 05:52:46,782 - Start imputing all missing data in all train/val/test sets...\n",
            "2024-12-15 05:52:47,967 - Done saving all imputed data into /content/drive/MyDrive/ELEC 509/SAITS/NIPS_results/PhysioNet2012_SAITS_best/step_313/imputations.h5.\n",
            "2024-12-15 05:52:47,968 - All Done.\n"
          ]
        }
      ]
    },
    {
      "cell_type": "code",
      "source": [],
      "metadata": {
        "id": "UYGWj2lHqaYn"
      },
      "execution_count": null,
      "outputs": []
    },
    {
      "cell_type": "markdown",
      "source": [
        "# Run BRITS"
      ],
      "metadata": {
        "id": "3vwySDCgvBST"
      }
    },
    {
      "cell_type": "code",
      "source": [
        "# Training\n",
        "!python '/content/SAITS/run_models.py' \\\n",
        "    --config_path '/content/SAITS/configs/PhysioNet2012_BRITS_best.ini' \\\n",
        "    > '/content/SAITS/NIPS_results/PhysioNet2012_SAITS_best.out'"
      ],
      "metadata": {
        "id": "sngeYDqGOYSF",
        "colab": {
          "base_uri": "https://localhost:8080/"
        },
        "outputId": "87fc9750-2f32-412a-a318-a6977fd009fd"
      },
      "execution_count": null,
      "outputs": [
        {
          "output_type": "stream",
          "name": "stdout",
          "text": [
            "2024-12-15 06:08:34.034032: E external/local_xla/xla/stream_executor/cuda/cuda_fft.cc:485] Unable to register cuFFT factory: Attempting to register factory for plugin cuFFT when one has already been registered\n",
            "2024-12-15 06:08:34.054026: E external/local_xla/xla/stream_executor/cuda/cuda_dnn.cc:8454] Unable to register cuDNN factory: Attempting to register factory for plugin cuDNN when one has already been registered\n",
            "2024-12-15 06:08:34.060020: E external/local_xla/xla/stream_executor/cuda/cuda_blas.cc:1452] Unable to register cuBLAS factory: Attempting to register factory for plugin cuBLAS when one has already been registered\n",
            "2024-12-15 06:08:34.078111: I tensorflow/core/platform/cpu_feature_guard.cc:210] This TensorFlow binary is optimized to use available CPU instructions in performance-critical operations.\n",
            "To enable the following instructions: AVX2 AVX512F FMA, in other operations, rebuild TensorFlow with the appropriate compiler flags.\n",
            "2024-12-15 06:08:35.118479: W tensorflow/compiler/tf2tensorrt/utils/py_utils.cc:38] TF-TRT Warning: Could not find TensorRT\n",
            "2024-12-15 06:08:37,258 - args: Namespace(config_path='/content/drive/MyDrive/ELEC 509/SAITS/configs/PhysioNet2012_BRITS_best.ini', test_mode=False, param_searching_mode=False, dataset_base_dir='generated_datasets', result_saving_base_dir='NIPS_results', seq_len=48, batch_size=128, num_workers=4, feature_num=37, dataset_name='physio2012_37feats_01masked', dataset_path='generated_datasets/physio2012_37feats_01masked', eval_every_n_steps=60, MIT=False, ORT=True, lr=0.0011223987784673931, optimizer_type='adam', weight_decay=0.0, device='cuda', epochs=10000, early_stop_patience=30, model_saving_strategy='best', max_norm=0.0, imputation_loss_weight=1.0, reconstruction_loss_weight=1.0, model_name='PhysioNet2012_BRITS_best', model_type='BRITS', consistency_loss_weight=1.0, rnn_hidden_size=256, model_saving='NIPS_results/PhysioNet2012_BRITS_best/models/2024-12-15_T06:08:37', log_saving='NIPS_results/PhysioNet2012_BRITS_best/logs')\n",
            "2024-12-15 06:08:37,259 - Config file path: /content/drive/MyDrive/ELEC 509/SAITS/configs/PhysioNet2012_BRITS_best.ini\n",
            "2024-12-15 06:08:37,260 - Model name: PhysioNet2012_BRITS_best\n",
            "2024-12-15 06:08:37,270 - Num of total trainable params is: 729584\n",
            "2024-12-15 06:08:37,414 - Creating adam optimizer...\n",
            "2024-12-15 06:08:38,548 - Entering training mode...\n",
            "2024-12-15 06:08:38,938 - train set len is 3197, batch size is 128,so each epoch has 25 steps\n",
            "2024-12-15 06:09:06,997 - best_imputation_MAE has been updated to 0.4061470329761505\n",
            "2024-12-15 06:09:07,023 - Saved model -> NIPS_results/PhysioNet2012_BRITS_best/models/2024-12-15_T06:08:37/model_trainStep_60_valStep_1_imputationMAE_0.4061\n",
            "2024-12-15 06:09:32,628 - best_imputation_MAE has been updated to 0.36732417345046997\n",
            "2024-12-15 06:09:32,660 - Saved model -> NIPS_results/PhysioNet2012_BRITS_best/models/2024-12-15_T06:08:37/model_trainStep_120_valStep_2_imputationMAE_0.3673\n",
            "2024-12-15 06:09:58,511 - best_imputation_MAE has been updated to 0.34277108311653137\n",
            "2024-12-15 06:09:58,534 - Saved model -> NIPS_results/PhysioNet2012_BRITS_best/models/2024-12-15_T06:08:37/model_trainStep_180_valStep_3_imputationMAE_0.3428\n",
            "2024-12-15 06:10:25,028 - best_imputation_MAE has been updated to 0.3239986300468445\n",
            "2024-12-15 06:10:25,055 - Saved model -> NIPS_results/PhysioNet2012_BRITS_best/models/2024-12-15_T06:08:37/model_trainStep_240_valStep_4_imputationMAE_0.3240\n",
            "2024-12-15 06:10:50,456 - best_imputation_MAE has been updated to 0.3146163821220398\n",
            "2024-12-15 06:10:50,479 - Saved model -> NIPS_results/PhysioNet2012_BRITS_best/models/2024-12-15_T06:08:37/model_trainStep_300_valStep_5_imputationMAE_0.3146\n",
            "2024-12-15 06:11:17,409 - best_imputation_MAE has been updated to 0.30309000611305237\n",
            "2024-12-15 06:11:17,440 - Saved model -> NIPS_results/PhysioNet2012_BRITS_best/models/2024-12-15_T06:08:37/model_trainStep_360_valStep_6_imputationMAE_0.3031\n",
            "2024-12-15 06:11:41,937 - best_imputation_MAE has been updated to 0.2943759262561798\n",
            "2024-12-15 06:11:41,961 - Saved model -> NIPS_results/PhysioNet2012_BRITS_best/models/2024-12-15_T06:08:37/model_trainStep_420_valStep_7_imputationMAE_0.2944\n",
            "2024-12-15 06:12:09,133 - best_imputation_MAE has been updated to 0.2847490906715393\n",
            "2024-12-15 06:12:09,161 - Saved model -> NIPS_results/PhysioNet2012_BRITS_best/models/2024-12-15_T06:08:37/model_trainStep_480_valStep_8_imputationMAE_0.2847\n",
            "2024-12-15 06:12:33,445 - best_imputation_MAE has been updated to 0.279224157333374\n",
            "2024-12-15 06:12:33,469 - Saved model -> NIPS_results/PhysioNet2012_BRITS_best/models/2024-12-15_T06:08:37/model_trainStep_540_valStep_9_imputationMAE_0.2792\n",
            "2024-12-15 06:13:00,117 - best_imputation_MAE has been updated to 0.27447664737701416\n",
            "2024-12-15 06:13:00,144 - Saved model -> NIPS_results/PhysioNet2012_BRITS_best/models/2024-12-15_T06:08:37/model_trainStep_600_valStep_10_imputationMAE_0.2745\n",
            "2024-12-15 06:13:26,375 - best_imputation_MAE has been updated to 0.2713386118412018\n",
            "2024-12-15 06:13:26,401 - Saved model -> NIPS_results/PhysioNet2012_BRITS_best/models/2024-12-15_T06:08:37/model_trainStep_660_valStep_11_imputationMAE_0.2713\n",
            "2024-12-15 06:13:52,851 - best_imputation_MAE has been updated to 0.2691328823566437\n",
            "2024-12-15 06:13:52,875 - Saved model -> NIPS_results/PhysioNet2012_BRITS_best/models/2024-12-15_T06:08:37/model_trainStep_720_valStep_12_imputationMAE_0.2691\n",
            "2024-12-15 06:14:17,834 - best_imputation_MAE has been updated to 0.26562008261680603\n",
            "2024-12-15 06:14:17,862 - Saved model -> NIPS_results/PhysioNet2012_BRITS_best/models/2024-12-15_T06:08:37/model_trainStep_780_valStep_13_imputationMAE_0.2656\n",
            "2024-12-15 06:14:42,710 - best_imputation_MAE has been updated to 0.2645608186721802\n",
            "2024-12-15 06:14:42,742 - Saved model -> NIPS_results/PhysioNet2012_BRITS_best/models/2024-12-15_T06:08:37/model_trainStep_840_valStep_14_imputationMAE_0.2646\n",
            "2024-12-15 06:15:08,993 - best_imputation_MAE has been updated to 0.26205065846443176\n",
            "2024-12-15 06:15:09,022 - Saved model -> NIPS_results/PhysioNet2012_BRITS_best/models/2024-12-15_T06:08:37/model_trainStep_900_valStep_15_imputationMAE_0.2621\n",
            "2024-12-15 06:15:35,497 - best_imputation_MAE has been updated to 0.2605583965778351\n",
            "2024-12-15 06:15:35,523 - Saved model -> NIPS_results/PhysioNet2012_BRITS_best/models/2024-12-15_T06:08:37/model_trainStep_960_valStep_16_imputationMAE_0.2606\n",
            "2024-12-15 06:16:00,819 - best_imputation_MAE has been updated to 0.2590184509754181\n",
            "2024-12-15 06:16:00,843 - Saved model -> NIPS_results/PhysioNet2012_BRITS_best/models/2024-12-15_T06:08:37/model_trainStep_1020_valStep_17_imputationMAE_0.2590\n",
            "2024-12-15 06:16:26,133 - best_imputation_MAE has been updated to 0.2570434510707855\n",
            "2024-12-15 06:16:26,160 - Saved model -> NIPS_results/PhysioNet2012_BRITS_best/models/2024-12-15_T06:08:37/model_trainStep_1080_valStep_18_imputationMAE_0.2570\n",
            "2024-12-15 06:16:51,229 - best_imputation_MAE has been updated to 0.2556895315647125\n",
            "2024-12-15 06:16:51,256 - Saved model -> NIPS_results/PhysioNet2012_BRITS_best/models/2024-12-15_T06:08:37/model_trainStep_1140_valStep_19_imputationMAE_0.2557\n",
            "2024-12-15 06:17:17,946 - best_imputation_MAE has been updated to 0.2555471658706665\n",
            "2024-12-15 06:17:17,997 - Saved model -> NIPS_results/PhysioNet2012_BRITS_best/models/2024-12-15_T06:08:37/model_trainStep_1200_valStep_20_imputationMAE_0.2555\n",
            "2024-12-15 06:17:44,439 - best_imputation_MAE has been updated to 0.2550959885120392\n",
            "2024-12-15 06:17:44,464 - Saved model -> NIPS_results/PhysioNet2012_BRITS_best/models/2024-12-15_T06:08:37/model_trainStep_1260_valStep_21_imputationMAE_0.2551\n",
            "2024-12-15 06:18:10,483 - best_imputation_MAE has been updated to 0.25367307662963867\n",
            "2024-12-15 06:18:10,506 - Saved model -> NIPS_results/PhysioNet2012_BRITS_best/models/2024-12-15_T06:08:37/model_trainStep_1320_valStep_22_imputationMAE_0.2537\n",
            "2024-12-15 06:18:35,495 - best_imputation_MAE has been updated to 0.2528232932090759\n",
            "2024-12-15 06:18:35,522 - Saved model -> NIPS_results/PhysioNet2012_BRITS_best/models/2024-12-15_T06:08:37/model_trainStep_1380_valStep_23_imputationMAE_0.2528\n",
            "2024-12-15 06:19:01,682 - best_imputation_MAE has been updated to 0.2523043155670166\n",
            "2024-12-15 06:19:01,706 - Saved model -> NIPS_results/PhysioNet2012_BRITS_best/models/2024-12-15_T06:08:37/model_trainStep_1440_valStep_24_imputationMAE_0.2523\n",
            "2024-12-15 06:19:26,719 - best_imputation_MAE has been updated to 0.25167325139045715\n",
            "2024-12-15 06:19:26,746 - Saved model -> NIPS_results/PhysioNet2012_BRITS_best/models/2024-12-15_T06:08:37/model_trainStep_1500_valStep_25_imputationMAE_0.2517\n",
            "2024-12-15 06:20:19,777 - best_imputation_MAE has been updated to 0.25152912735939026\n",
            "2024-12-15 06:20:19,810 - Saved model -> NIPS_results/PhysioNet2012_BRITS_best/models/2024-12-15_T06:08:37/model_trainStep_1620_valStep_27_imputationMAE_0.2515\n",
            "2024-12-15 06:20:45,297 - best_imputation_MAE has been updated to 0.2505245804786682\n",
            "2024-12-15 06:20:45,324 - Saved model -> NIPS_results/PhysioNet2012_BRITS_best/models/2024-12-15_T06:08:37/model_trainStep_1680_valStep_28_imputationMAE_0.2505\n",
            "2024-12-15 06:21:11,335 - best_imputation_MAE has been updated to 0.2504514157772064\n",
            "2024-12-15 06:21:11,360 - Saved model -> NIPS_results/PhysioNet2012_BRITS_best/models/2024-12-15_T06:08:37/model_trainStep_1740_valStep_29_imputationMAE_0.2505\n",
            "2024-12-15 06:21:34,036 - best_imputation_MAE has been updated to 0.25025805830955505\n",
            "2024-12-15 06:21:34,060 - Saved model -> NIPS_results/PhysioNet2012_BRITS_best/models/2024-12-15_T06:08:37/model_trainStep_1800_valStep_30_imputationMAE_0.2503\n",
            "2024-12-15 06:22:01,446 - best_imputation_MAE has been updated to 0.24986346065998077\n",
            "2024-12-15 06:22:01,472 - Saved model -> NIPS_results/PhysioNet2012_BRITS_best/models/2024-12-15_T06:08:37/model_trainStep_1860_valStep_31_imputationMAE_0.2499\n",
            "2024-12-15 06:22:52,416 - best_imputation_MAE has been updated to 0.24981555342674255\n",
            "2024-12-15 06:22:52,449 - Saved model -> NIPS_results/PhysioNet2012_BRITS_best/models/2024-12-15_T06:08:37/model_trainStep_1980_valStep_33_imputationMAE_0.2498\n",
            "2024-12-15 06:23:18,202 - best_imputation_MAE has been updated to 0.24974530935287476\n",
            "2024-12-15 06:23:18,237 - Saved model -> NIPS_results/PhysioNet2012_BRITS_best/models/2024-12-15_T06:08:37/model_trainStep_2040_valStep_34_imputationMAE_0.2497\n",
            "2024-12-15 06:36:30,890 - early_stop_patience has been exhausted, stop training now\n",
            "2024-12-15 06:36:30,893 - Early stopping worked, stop now...\n",
            "2024-12-15 06:36:30,987 - Finished all epochs. Stop training now.\n",
            "2024-12-15 06:36:30,992 - All Done.\n"
          ]
        }
      ]
    },
    {
      "cell_type": "code",
      "source": [
        "# Testing\n",
        "!python run_models.py \\\n",
        "    --config_path '/content/SAITS/configs/PhysioNet2012_BRITS_best.ini' \\\n",
        "    --test_mode"
      ],
      "metadata": {
        "colab": {
          "base_uri": "https://localhost:8080/"
        },
        "id": "FSvCYxpWvORq",
        "outputId": "b251534f-3cdd-43c4-f7a0-63ac1d4dabdd"
      },
      "execution_count": null,
      "outputs": [
        {
          "output_type": "stream",
          "name": "stdout",
          "text": [
            "2024-12-15 07:03:39.288968: E external/local_xla/xla/stream_executor/cuda/cuda_fft.cc:485] Unable to register cuFFT factory: Attempting to register factory for plugin cuFFT when one has already been registered\n",
            "2024-12-15 07:03:39.309321: E external/local_xla/xla/stream_executor/cuda/cuda_dnn.cc:8454] Unable to register cuDNN factory: Attempting to register factory for plugin cuDNN when one has already been registered\n",
            "2024-12-15 07:03:39.315780: E external/local_xla/xla/stream_executor/cuda/cuda_blas.cc:1452] Unable to register cuBLAS factory: Attempting to register factory for plugin cuBLAS when one has already been registered\n",
            "2024-12-15 07:03:39.330993: I tensorflow/core/platform/cpu_feature_guard.cc:210] This TensorFlow binary is optimized to use available CPU instructions in performance-critical operations.\n",
            "To enable the following instructions: AVX2 AVX512F FMA, in other operations, rebuild TensorFlow with the appropriate compiler flags.\n",
            "2024-12-15 07:03:40.666768: W tensorflow/compiler/tf2tensorrt/utils/py_utils.cc:38] TF-TRT Warning: Could not find TensorRT\n",
            "2024-12-15 07:03:43,787 - args: Namespace(config_path='/content/drive/MyDrive/ELEC 509/SAITS/configs/PhysioNet2012_BRITS_best.ini', test_mode=True, param_searching_mode=False, dataset_base_dir='generated_datasets', result_saving_base_dir='NIPS_results', seq_len=48, batch_size=128, num_workers=4, feature_num=37, dataset_name='physio2012_37feats_01masked', dataset_path='generated_datasets/physio2012_37feats_01masked', eval_every_n_steps=60, MIT=False, ORT=True, lr=0.0011223987784673931, optimizer_type='adam', weight_decay=0.0, device='cuda', epochs=10000, early_stop_patience=30, model_saving_strategy='best', max_norm=0.0, imputation_loss_weight=1.0, reconstruction_loss_weight=1.0, model_name='PhysioNet2012_BRITS_best', model_type='BRITS', consistency_loss_weight=1.0, rnn_hidden_size=256, model_saving=None, log_saving='NIPS_results/PhysioNet2012_BRITS_best/test_log')\n",
            "2024-12-15 07:03:43,788 - Config file path: /content/drive/MyDrive/ELEC 509/SAITS/configs/PhysioNet2012_BRITS_best.ini\n",
            "2024-12-15 07:03:43,789 - Model name: PhysioNet2012_BRITS_best\n",
            "2024-12-15 07:03:43,798 - Num of total trainable params is: 729584\n",
            "2024-12-15 07:03:43,955 - Entering testing mode...\n",
            "2024-12-15 07:03:43,971 - Already restored model from checkpoint: /content/drive/MyDrive/ELEC 509/SAITS/NIPS_results/PhysioNet2012_BRITS_best/models/2024-12-15_T06:08:37/model_trainStep_2040_valStep_34_imputationMAE_0.2497\n",
            "2024-12-15 07:03:43,980 - Start evaluating on whole test set...\n",
            "2024-12-15 07:03:45,071 - Overall performance metrics are listed as follows:\n",
            "2024-12-15 07:03:45,074 - imputation_MAE on the test set: 0.7640060782432556\n",
            "2024-12-15 07:03:45,188 - imputation_RMSE on the test set: 1.1625847816467285\n",
            "2024-12-15 07:03:45,190 - imputation_MRE on the test set: 0.9027909636497498\n",
            "2024-12-15 07:03:45,191 - trainable parameter num: 729584\n",
            "2024-12-15 07:03:45,328 - Start imputing all missing data in all train/val/test sets...\n",
            "2024-12-15 07:03:51,081 - Done saving all imputed data into /content/drive/MyDrive/ELEC 509/SAITS/NIPS_results/PhysioNet2012_BRITS_best/step_57/imputations.h5.\n",
            "2024-12-15 07:03:51,083 - All Done.\n"
          ]
        }
      ]
    },
    {
      "cell_type": "code",
      "source": [],
      "metadata": {
        "id": "u6SAxvZRC_UN"
      },
      "execution_count": null,
      "outputs": []
    }
  ]
}
